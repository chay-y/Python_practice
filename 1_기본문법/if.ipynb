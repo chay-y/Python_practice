{
 "cells": [
  {
   "cell_type": "code",
   "execution_count": 1,
   "metadata": {},
   "outputs": [
    {
     "name": "stdout",
     "output_type": "stream",
     "text": [
      "2가 1보다 커요\n"
     ]
    }
   ],
   "source": [
    "if 1>2 :\n",
    "    print(\"1이 2보다 커요\")\n",
    "else :\n",
    "    print(\"2가 1보다 커요\")"
   ]
  },
  {
   "cell_type": "code",
   "execution_count": 8,
   "metadata": {},
   "outputs": [],
   "source": [
    "# num이라는 변수에 저장된 숫자가 100번대인지 아닌지 확인\n",
    "\n",
    "num = 12333\n",
    "\n",
    "if num>=100 and num<200:\n",
    "    print(\"100번대\")\n",
    "else:\n",
    "    pass"
   ]
  },
  {
   "cell_type": "code",
   "execution_count": 6,
   "metadata": {},
   "outputs": [
    {
     "data": {
      "text/plain": [
       "True"
      ]
     },
     "execution_count": 6,
     "metadata": {},
     "output_type": "execute_result"
    }
   ],
   "source": [
    "1 in [1,2,3]"
   ]
  },
  {
   "cell_type": "code",
   "execution_count": 13,
   "metadata": {},
   "outputs": [
    {
     "name": "stdout",
     "output_type": "stream",
     "text": [
      "합격\n",
      "합격\n"
     ]
    }
   ],
   "source": [
    "# 의 값이 80점 이상이면 합격, 아니면 불합격\n",
    "\n",
    "a=85\n",
    "\n",
    "if a>=80 : print(\"합격\")\n",
    "else : print(\"불합격\")\n",
    "\n",
    "result = \"합격\" if a>=80 else \"불합격\"\n",
    "print(result)"
   ]
  },
  {
   "cell_type": "code",
   "execution_count": 15,
   "metadata": {},
   "outputs": [
    {
     "name": "stdout",
     "output_type": "stream",
     "text": [
      "523\n"
     ]
    }
   ],
   "source": [
    "num = input(\"숫자 입력\")\n",
    "print(num)"
   ]
  }
 ],
 "metadata": {
  "kernelspec": {
   "display_name": "Python 3",
   "language": "python",
   "name": "python3"
  },
  "language_info": {
   "codemirror_mode": {
    "name": "ipython",
    "version": 3
   },
   "file_extension": ".py",
   "mimetype": "text/x-python",
   "name": "python",
   "nbconvert_exporter": "python",
   "pygments_lexer": "ipython3",
   "version": "3.12.7"
  }
 },
 "nbformat": 4,
 "nbformat_minor": 2
}
