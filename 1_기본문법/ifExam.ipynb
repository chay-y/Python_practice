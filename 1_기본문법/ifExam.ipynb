{
 "cells": [
  {
   "cell_type": "code",
   "execution_count": 1,
   "metadata": {},
   "outputs": [
    {
     "name": "stdout",
     "output_type": "stream",
     "text": [
      "안녕?안녕?\n"
     ]
    }
   ],
   "source": [
    "# 1. 사용자에게 문자열을 입력받아 그 문자열을 2번 반복하여 출력하시오\n",
    "str = input(\"문자 입력\")\n",
    "print(str*2)"
   ]
  },
  {
   "cell_type": "code",
   "execution_count": 39,
   "metadata": {},
   "outputs": [
    {
     "name": "stdout",
     "output_type": "stream",
     "text": [
      "홀수\n",
      "홀수\n",
      "홀수\n",
      "홀수\n"
     ]
    }
   ],
   "source": [
    "# 2. 사용자에게서 숫자를 입력받아 홀수인지 짝수인지 출력하시오.\n",
    "num = int(input(\"숫자 입력``짝수?홀수?\"))\n",
    "\n",
    "# 1>if \n",
    "if (num)%2==1 : print(\"홀수\")\n",
    "else : print(\"짝수\")\n",
    "\n",
    "# 2>표현식\n",
    "result = \"짝수\" if num % 2 == 0 else \"홀수\"\n",
    "print (result)\n",
    "\n",
    "# 3>리스트\n",
    "list = [\"짝수\",\"홀수\"]\n",
    "print(list[num%2])\n",
    "\n",
    "# 4>딕셔너리\n",
    "dic = {0:\"짝수\", 1:\"홀수\"}\n",
    "print(dic[num%2])"
   ]
  },
  {
   "cell_type": "code",
   "execution_count": 41,
   "metadata": {},
   "outputs": [
    {
     "name": "stdout",
     "output_type": "stream",
     "text": [
      "32\n"
     ]
    }
   ],
   "source": [
    "# 3. 사용자로부터 값을 입력받은 후 해당 값에 20을 더한 값을 출력\n",
    "# 단, 사용자가 입력한 값과 20을 더한 값이 255를 초과하는 경우 255를 출력해야함\n",
    "\n",
    "user = input(\"숫자 입력 >\")\n",
    "num = 20 + int(user)\n",
    "\n",
    "if num > 255 : print(255)\n",
    "else : print(num)"
   ]
  },
  {
   "cell_type": "code",
   "execution_count": 44,
   "metadata": {},
   "outputs": [
    {
     "name": "stdout",
     "output_type": "stream",
     "text": [
      "255\n"
     ]
    }
   ],
   "source": [
    "# 4. 사용자로부터 값을 입력받은 후 해당 값에 20을 뺀 값을 출력\n",
    "# 단, 사용자가 입력한 값과 20을 뺀 값이 255를 초과하는 경우 255를 출력해야함\n",
    "\n",
    "user = input(\"숫자 입력 >\")\n",
    "num = int(user) - 20\n",
    "\n",
    "if num > 255 : print(255)\n",
    "elif num < 0 : print(0)\n",
    "else : print(num)"
   ]
  },
  {
   "cell_type": "code",
   "execution_count": 48,
   "metadata": {},
   "outputs": [
    {
     "name": "stdout",
     "output_type": "stream",
     "text": [
      "정각입니다.\n"
     ]
    }
   ],
   "source": [
    "# 5. 사용자로부터 입력받은 시간이 정각인지 판별하시오\n",
    "# 예) 현재시간 : 16:00\n",
    "# -> 정각입니다\n",
    "\n",
    "time = input(\"시간은..? > \")\n",
    "\n",
    "if time[-2:]==\"00\" : print(\"정각입니다.\")\n",
    "else : pass"
   ]
  },
  {
   "cell_type": "code",
   "execution_count": 47,
   "metadata": {},
   "outputs": [
    {
     "name": "stdout",
     "output_type": "stream",
     "text": [
      "O\n"
     ]
    }
   ],
   "source": [
    "# 6. 사용자가 입력한 단어가 아래의 리스트에 포함되어있는지 확인하고\n",
    "# 포함되어있다면 \"O\" , 아니면 \"X\"출력\n",
    "\n",
    "fruit = [\"사과\",\"토마토\",\"바나나\"]\n",
    "\n",
    "user = input(\"과일 > \")\n",
    "\n",
    "if user in fruit :  print(\"O\")\n",
    "else : print(\"X\")"
   ]
  },
  {
   "cell_type": "code",
   "execution_count": 51,
   "metadata": {},
   "outputs": [
    {
     "name": "stdout",
     "output_type": "stream",
     "text": [
      "정답\n"
     ]
    }
   ],
   "source": [
    "# 7. 사용자가 입력한 단어가 아래의 딕셔너리 중 키에 포함되어있다면\n",
    "# 정답, 아니면 오답을 출력하시오\n",
    "\n",
    "dic={\"봄\":\"딸기\",\"여름\":\"수박\",\"가을\":\"홍시\"}\n",
    "\n",
    "user = input(\"계절?\")\n",
    "\n",
    "if user in dic : print(\"정답\")\n",
    "else : print(\"오답\")"
   ]
  },
  {
   "cell_type": "code",
   "execution_count": 55,
   "metadata": {},
   "outputs": [
    {
     "name": "stdout",
     "output_type": "stream",
     "text": [
      "정답\n"
     ]
    }
   ],
   "source": [
    "# 8. 사용자가 입력한 단어가 dic딕셔너리의 값에 포함되어있다면 정답, 아니면 오답\n",
    "\n",
    "user = input(\"과일?\")\n",
    "\n",
    "if user in dic.values() : print(\"정답\")\n",
    "else : print(\"오답\")"
   ]
  },
  {
   "cell_type": "code",
   "execution_count": 59,
   "metadata": {},
   "outputs": [
    {
     "name": "stdout",
     "output_type": "stream",
     "text": [
      "A\n"
     ]
    }
   ],
   "source": [
    "# 9. 사용자에게 점수를 입력받아 학점을 출력\n",
    "# 81~100 : a / 61~80 : b / 41~60 : c / 21~40 : D / 0~20 : E\n",
    "\n",
    "score = int(input(\"점수는?\"))\n",
    "\n",
    "if score >= 81 : print(\"A\")\n",
    "elif score >= 61 : print(\"B\")\n",
    "elif score >= 41 : print(\"C\")\n",
    "elif score >= 21 : print(\"D\")\n",
    "else : print(\"E\")"
   ]
  },
  {
   "cell_type": "code",
   "execution_count": 63,
   "metadata": {},
   "outputs": [
    {
     "name": "stdout",
     "output_type": "stream",
     "text": [
      "133960.0 원\n"
     ]
    }
   ],
   "source": [
    "# 10 원으로 결과를 출력하시오\n",
    "#  단, 사용자가 입력할 때 금액과 통화명 사이에 공백을 입력한다고 가정한다.\n",
    "\n",
    "curr = {\"달러\":1339.6,\n",
    "        \"유로\":1476.26,\n",
    "        \"엔\":0.905,\n",
    "        \"위안\":190.58}\n",
    "\n",
    "user = input(\"입력 > \")\n",
    "num, currency = user.split()\n",
    "print(float(num) * curr[currency], \"원\")"
   ]
  },
  {
   "cell_type": "code",
   "execution_count": 64,
   "metadata": {},
   "outputs": [
    {
     "name": "stdout",
     "output_type": "stream",
     "text": [
      "남구\n"
     ]
    }
   ],
   "source": [
    "# 11. 우편번호는 5자리로 구성되는데 앞의 3자리는 구를 나타낸다.\n",
    "# 사용자에게 우편번호를 입력받고 이에 해당하는 구를 출력하시오\n",
    "\n",
    "# 010, 011, 012 : 남구\n",
    "# 013, 014, 015 : 중구\n",
    "# 016, 017 : 북구\n",
    "# 018, 019 : 동구\n",
    "\n",
    "zipcode = input(\"우편번호 > \")\n",
    "codeNum = zipcode[:3]\n",
    "\n",
    "if codeNum in[\"010\", \"011\", \"012\"] : print(\"남구\")\n",
    "elif codeNum in[\"013\", \"014\", \"015\"] : print(\"중구\")\n",
    "elif codeNum in[\"016\", \"017\"] : print(\"북구\")\n",
    "else : print(\"동구\")\n"
   ]
  },
  {
   "cell_type": "code",
   "execution_count": 65,
   "metadata": {},
   "outputs": [
    {
     "name": "stdout",
     "output_type": "stream",
     "text": [
      "남자\n",
      "여자\n"
     ]
    }
   ],
   "source": [
    "# 12. 주민번호 13자리를 입력받고 7번째 자리가 1,3이면 남자, 2,4면 여자를 출력\n",
    "# 입력 예) 001122-1234567 --> 남자\n",
    "\n",
    "# 1\n",
    "rNum = input(\"주민번호 13자리를 입력하세요 ``` - 포함\")\n",
    "\n",
    "if int(rNum[7:8]) in [1,3] : print(\"남자\")\n",
    "else : print(\"여자\")\n",
    "\n",
    "# 2\n",
    "ssn = input(\"주민번호 >\")\n",
    "ssn = ssn.split(\"-\")[1]\n",
    "\n",
    "if ssn[0] == \"1\" or ssn[0]==\"3\" : print(\"남자\")\n",
    "else : print(\"여자\")"
   ]
  },
  {
   "cell_type": "code",
   "execution_count": 35,
   "metadata": {},
   "outputs": [
    {
     "name": "stdout",
     "output_type": "stream",
     "text": [
      "타지역 입니다.\n"
     ]
    }
   ],
   "source": [
    "# 13. 주민번호 뒤 7자리 중 두번재와 세번째는 지역코드를 의미한다.\n",
    "# 지역코드를 확인하여 출생지가 서울인지 부산인지를 출력하시오.\n",
    "\n",
    "# 00~08 : 서울\n",
    "# 09~12 : 부산\n",
    "\n",
    "# 입력 예) 991122-1123456 --> 출생지 : 부산\n",
    "\n",
    "# 1\n",
    "rNum = input(\"주민번호 13자리를 입력하세요 ``` - 포함\")\n",
    "\n",
    "if 0 <= int(rNum[8:10]) <=8 : print(\"서울\")\n",
    "elif 9 <= int(rNum[8:10]) <=12 : print(\"부산\")\n",
    "else : print(\"타지역 입니다.\")\n",
    "\n",
    "# 2\n",
    "ssn = input(\"주민번호 > \")\n",
    "city = ssn.split(\"-\")[1]\n",
    "\n",
    "if 0 <= int(city[1:3]) <=8 : print(\"서울\")\n",
    "elif 9 <= int(city[1:3]) <=12 : print(\"부산\")\n",
    "else : print(\"타지역 입니다.\")"
   ]
  }
 ],
 "metadata": {
  "kernelspec": {
   "display_name": "Python 3",
   "language": "python",
   "name": "python3"
  },
  "language_info": {
   "codemirror_mode": {
    "name": "ipython",
    "version": 3
   },
   "file_extension": ".py",
   "mimetype": "text/x-python",
   "name": "python",
   "nbconvert_exporter": "python",
   "pygments_lexer": "ipython3",
   "version": "3.12.7"
  }
 },
 "nbformat": 4,
 "nbformat_minor": 2
}
