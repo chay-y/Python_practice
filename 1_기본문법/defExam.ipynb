{
 "cells": [
  {
   "cell_type": "code",
   "execution_count": 35,
   "metadata": {},
   "outputs": [
    {
     "data": {
      "text/plain": [
       "(13, 3, 40, 1.6)"
      ]
     },
     "execution_count": 35,
     "metadata": {},
     "output_type": "execute_result"
    }
   ],
   "source": [
    "# 1. 두개의 숫자를 입력받아 더하기, 빼기, 곱하기, 나누기의 결과를\n",
    "# 출력하는 arithmetic 함수를 작성하시오.\n",
    "\n",
    "def arithmetic(a,b):\n",
    "    return a+b, a-b, a*b, a/b\n",
    "\n",
    "arithmetic(8,5)"
   ]
  },
  {
   "cell_type": "code",
   "execution_count": 57,
   "metadata": {},
   "outputs": [
    {
     "data": {
      "text/plain": [
       "3"
      ]
     },
     "execution_count": 57,
     "metadata": {},
     "output_type": "execute_result"
    }
   ],
   "source": [
    "# 2. 세 개의 숫자를 입력받아 가장 큰 수를 출력하는 print_max 함수를 작성\n",
    "# (if문 사용)\n",
    "\n",
    "def print_max(a,b,c):\n",
    "    \n",
    "    max_num=0\n",
    "\n",
    "    if a > max_num :\n",
    "        max_num = a\n",
    "    if b > max_num :\n",
    "        max_num = b\n",
    "    if c > max_num :\n",
    "        max_num = c\n",
    "    return max_num\n",
    "\n",
    "\n",
    "print_max(1,2,3)"
   ]
  },
  {
   "cell_type": "code",
   "execution_count": 37,
   "metadata": {},
   "outputs": [
    {
     "data": {
      "text/plain": [
       "'nohtyp'"
      ]
     },
     "execution_count": 37,
     "metadata": {},
     "output_type": "execute_result"
    }
   ],
   "source": [
    "# 3. 입력된 문자열을 역순으로 출력하는 print_reverse 함수를 작성\n",
    "# 출력 예)python->nohtyp\n",
    "\n",
    "def print_reverse(a):\n",
    "    return a[::-1]\n",
    "\n",
    "print_reverse('python')"
   ]
  },
  {
   "cell_type": "code",
   "execution_count": 58,
   "metadata": {},
   "outputs": [
    {
     "name": "stdout",
     "output_type": "stream",
     "text": [
      "91.0\n"
     ]
    }
   ],
   "source": [
    "# 4. 성적 리스트를 입력받아 평균을 출력하는 함수 print_score함수를 작성\n",
    "\n",
    "def print_score(scoreNum,*args):\n",
    "    scoreSum=0\n",
    "    for i in args :\n",
    "        scoreSum+=i\n",
    "    return scoreSum/scoreNum\n",
    "\n",
    "print_score(3,100,86,90)\n",
    "\n",
    "def print_score2(list):\n",
    "    print(sum(list)/len(list))\n",
    "\n",
    "print_score2([100,76,97])"
   ]
  },
  {
   "cell_type": "code",
   "execution_count": 66,
   "metadata": {},
   "outputs": [
    {
     "name": "stdout",
     "output_type": "stream",
     "text": [
      "2\n",
      "4\n",
      "56\n",
      "8\n",
      "-----------\n",
      "2 4 56 8\n"
     ]
    }
   ],
   "source": [
    "# 5. 숫자로 이루어진 리스트를 입력받아 짝수만 화면에 출력하는 print_even 함수를 작성\n",
    "\n",
    "def print_even(list):\n",
    "    for n in list:\n",
    "        if n%2==0:\n",
    "            print(n)\n",
    "\n",
    "def print_even2(list2):\n",
    "    print(*[q for q in list2 if q % 2 == 0])\n",
    "\n",
    "\n",
    "print_even([1,2,3,4,56,7,8,9])\n",
    "print(\"-----------\")\n",
    "print_even2([1,2,3,4,56,7,8,9])"
   ]
  },
  {
   "cell_type": "code",
   "execution_count": 67,
   "metadata": {},
   "outputs": [
    {
     "name": "stdout",
     "output_type": "stream",
     "text": [
      "이름\n",
      "나이\n",
      "전화번호\n"
     ]
    }
   ],
   "source": [
    "# 6. 아래의 내용을 딕셔너리 형태로\n",
    "# 입력하면 key의 값만 화면에 출력하는 print_key 함수를 작성\n",
    "\n",
    "# 이름 : 김그린, 나이 : 22, 전화번호 : 010-1111-2222\n",
    "\n",
    "def print_key(dic):\n",
    "    for k in dic.keys():\n",
    "        print(k)\n",
    "\n",
    "print_key({'이름' : '김그린', '나이' : 22, '전화번호' : '010-1111-2222'})\n",
    "    "
   ]
  },
  {
   "cell_type": "code",
   "execution_count": 69,
   "metadata": {},
   "outputs": [
    {
     "name": "stdout",
     "output_type": "stream",
     "text": [
      "[90, 80, 70, 60]\n",
      "[80, 70, 60, 50]\n"
     ]
    }
   ],
   "source": [
    "# 7. 아래의 내용에서 키는 이름, 값은 리스트 형태로 점수가 저장되어 있다.\n",
    "# 아래의 예시를 score_dict 딕셔너리로 저장하고\n",
    "# score_dict과 이름을 전달하면 해당하는 사람의 점수를 출력하는\n",
    "# print_score 함수를 작성\n",
    "\n",
    "# 김그린, 90, 80, 70, 60\n",
    "# 정디비, 80, 70, 60, 50\n",
    "\n",
    "score_dict={'김그린':[90, 80, 70, 60],'정디비':[80, 70, 60, 50]}\n",
    "\n",
    "def print_score(score_dict,key):\n",
    "    print(score_dict[key])\n",
    "\n",
    "print_score(score_dict,'김그린')\n",
    "print_score(score_dict,'정디비')   \n"
   ]
  },
  {
   "cell_type": "code",
   "execution_count": 74,
   "metadata": {},
   "outputs": [
    {
     "name": "stdout",
     "output_type": "stream",
     "text": [
      "파이썬은재\n",
      "밌는언어다\n",
      "\n",
      "\n",
      "\n",
      "\n",
      "\n",
      "\n",
      "\n",
      "\n",
      "\n"
     ]
    }
   ],
   "source": [
    "# 8. 아래의 문자열과 한줄에 출력될 글자수를 입력받아 한줄에 입력된 글자수만큼\n",
    "#   표시하는 print_nStr 함수를 작성\n",
    "\n",
    "# 입력값 : 파이썬은재밌는언어다, 5\n",
    "# 출력 : 파이썬은재\n",
    "#        밌는언어다\n",
    "\n",
    "def print_nStr(text, num):\n",
    "    check_num = len(text)\n",
    "    for x in range(check_num+1):\n",
    "        print(text[x*num:x*num+num])\n",
    "\n",
    "print_nStr(\"파이썬은재밌는언어다\",5)"
   ]
  },
  {
   "cell_type": "code",
   "execution_count": 75,
   "metadata": {},
   "outputs": [
    {
     "data": {
      "text/plain": [
       "['a', 'b', 'c', 'd']"
      ]
     },
     "execution_count": 75,
     "metadata": {},
     "output_type": "execute_result"
    }
   ],
   "source": [
    "# 9. 문자열을 입력받아 각 문자열로 구성된 리스트로 반환하는 make_list함수 작성\n",
    "# 예) 'abcd' -> ['a', 'b', 'c', 'd']\n",
    "\n",
    "def make_list(str):\n",
    "    list = []\n",
    "    for s in str:\n",
    "        list.append(s)\n",
    "    return list\n",
    "\n",
    "make_list('abcd')"
   ]
  },
  {
   "cell_type": "code",
   "execution_count": 44,
   "metadata": {},
   "outputs": [],
   "source": [
    "# 10. 콤마가 포함된 문자열 숫자를 입력받아 정수로 변환하는 convert_int함수 작성\n",
    "# 예) \"1,234,567\" - > 1234567\n"
   ]
  },
  {
   "cell_type": "code",
   "execution_count": 79,
   "metadata": {},
   "outputs": [
    {
     "name": "stdout",
     "output_type": "stream",
     "text": [
      "22\n"
     ]
    }
   ],
   "source": [
    "# 11. 함수 결과 예측하기\n",
    "def func(num):\n",
    "    return num+4\n",
    "\n",
    "a=func(10)\n",
    "b=func(a)\n",
    "c=func(b)\n",
    "\n",
    "print(c)"
   ]
  },
  {
   "cell_type": "code",
   "execution_count": 78,
   "metadata": {},
   "outputs": [
    {
     "name": "stdout",
     "output_type": "stream",
     "text": [
      "22\n"
     ]
    }
   ],
   "source": [
    "# 12. 함수 결과 예측하기\n",
    "\n",
    "def func(num):\n",
    "    return num+4\n",
    "\n",
    "c=func(func(func(10)))\n",
    "print(c)"
   ]
  },
  {
   "cell_type": "code",
   "execution_count": 77,
   "metadata": {},
   "outputs": [
    {
     "name": "stdout",
     "output_type": "stream",
     "text": [
      "16\n"
     ]
    }
   ],
   "source": [
    "# 14. 함수 결과 예측하기\n",
    "\n",
    "def func1(num):\n",
    "    return num+4\n",
    "\n",
    "def func2(num):\n",
    "    num+=2\n",
    "    return func1(num)\n",
    "\n",
    "c=func2(10)\n",
    "print(c)"
   ]
  },
  {
   "cell_type": "code",
   "execution_count": 76,
   "metadata": {},
   "outputs": [
    {
     "name": "stdout",
     "output_type": "stream",
     "text": [
      "28\n"
     ]
    }
   ],
   "source": [
    "# 15. 함수 결과 예측하기\n",
    "\n",
    "def func1(num):\n",
    "    return num*2\n",
    "\n",
    "def func2(num):\n",
    "    return func1(num+2)\n",
    "\n",
    "def func3(num):\n",
    "    num+=10\n",
    "    return func2(num)\n",
    "\n",
    "c=func3(2)\n",
    "print(c)"
   ]
  }
 ],
 "metadata": {
  "kernelspec": {
   "display_name": "Python 3",
   "language": "python",
   "name": "python3"
  },
  "language_info": {
   "codemirror_mode": {
    "name": "ipython",
    "version": 3
   },
   "file_extension": ".py",
   "mimetype": "text/x-python",
   "name": "python",
   "nbconvert_exporter": "python",
   "pygments_lexer": "ipython3",
   "version": "3.12.7"
  }
 },
 "nbformat": 4,
 "nbformat_minor": 2
}
