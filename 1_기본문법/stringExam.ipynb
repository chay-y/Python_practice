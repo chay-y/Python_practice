{
 "cells": [
  {
   "cell_type": "code",
   "execution_count": 6,
   "metadata": {},
   "outputs": [
    {
     "name": "stdout",
     "output_type": "stream",
     "text": [
      "5678\n"
     ]
    }
   ],
   "source": [
    "#1. 전화번호 뒤에서 4자리만 출력\n",
    "phone = \"010-1234-5678\"\n",
    "\n",
    "print(phone[9:])"
   ]
  },
  {
   "cell_type": "code",
   "execution_count": 38,
   "metadata": {},
   "outputs": [
    {
     "data": {
      "text/plain": [
       "['010', '1234', '5678']"
      ]
     },
     "execution_count": 38,
     "metadata": {},
     "output_type": "execute_result"
    }
   ],
   "source": [
    "#2. 전화번호의 -을 빼고 출력\n",
    "phone = \"010-1234-5678\"\n",
    "phone.split(\"-\")\n"
   ]
  },
  {
   "cell_type": "code",
   "execution_count": 36,
   "metadata": {},
   "outputs": [
    {
     "name": "stdout",
     "output_type": "stream",
     "text": [
      "python java python java python java \n"
     ]
    }
   ],
   "source": [
    "#3. 저장된 문자열을 다음과 같은 형태로 출력\n",
    "text1=\"python\"\n",
    "text2=\"java\"\n",
    "#출력결과 : python java python java python java \n",
    "text3=text1+\" \"+text2+\" \"\n",
    "print(text3*3)\n"
   ]
  },
  {
   "cell_type": "code",
   "execution_count": 40,
   "metadata": {},
   "outputs": [
    {
     "name": "stdout",
     "output_type": "stream",
     "text": [
      "이름 :  김그린 나이 : 22\n",
      "이름 :  정디비 나이 : 33\n"
     ]
    }
   ],
   "source": [
    "#4. 변수에 다음과 같이 저장되어 있을 때 formatting을 사용하여\n",
    "#출력결과와 같이 출력\n",
    "#출력결과\n",
    "# 이름 : 김그린 나이 : 22\n",
    "# 이름 : 정디비 나이 : 33\n",
    "\n",
    "name1=\"김그린\"\n",
    "age1=22\n",
    "name2=\"정디비\"\n",
    "age2=33\n",
    "\n",
    "print(\"이름 :  %s 나이 : %d\" % (name1, age1))\n",
    "print(\"이름 :  %s 나이 : %d\" % (name2, age2))"
   ]
  },
  {
   "cell_type": "code",
   "execution_count": 43,
   "metadata": {},
   "outputs": [
    {
     "data": {
      "text/plain": [
       "True"
      ]
     },
     "execution_count": 43,
     "metadata": {},
     "output_type": "execute_result"
    }
   ],
   "source": [
    "#5. 파일명의 확장자가 xlsx로 끝나는지 확인할 것\n",
    "file_name=\"보고서.xlsx\"\n",
    "\n",
    "file_name.endswith((\"hwp\",\"xlsx\"))"
   ]
  },
  {
   "cell_type": "code",
   "execution_count": 18,
   "metadata": {},
   "outputs": [
    {
     "data": {
      "text/plain": [
       "['a', 'bc', 'def', 'g', 'hi']"
      ]
     },
     "execution_count": 18,
     "metadata": {},
     "output_type": "execute_result"
    }
   ],
   "source": [
    "#6. 아래의 문자열을 \"_\"기준으로 분리하여 출력\n",
    "text=\"a_bc_def_g_hi\"\n",
    "text.split(\"_\")"
   ]
  },
  {
   "cell_type": "code",
   "execution_count": 35,
   "metadata": {},
   "outputs": [
    {
     "data": {
      "text/plain": [
       "'연:2024 월:10 일:08'"
      ]
     },
     "execution_count": 35,
     "metadata": {},
     "output_type": "execute_result"
    }
   ],
   "source": [
    "#7. 날짜를 연,월,일로 구분하여 출력\n",
    "date=\"2024-10-08\"\n",
    "\n",
    "year=date[:4]\n",
    "month=date[5:7]\n",
    "day=date[8:10]\n",
    "f'연:{year} 월:{month} 일:{day}'"
   ]
  },
  {
   "cell_type": "code",
   "execution_count": 22,
   "metadata": {},
   "outputs": [
    {
     "data": {
      "text/plain": [
       "'아하하하하'"
      ]
     },
     "execution_count": 22,
     "metadata": {},
     "output_type": "execute_result"
    }
   ],
   "source": [
    "#8. 문자열의 오른쪽 공백을 제거하여 출력\n",
    "memo=\"아하하하하         \"\n",
    "memo.rstrip()"
   ]
  }
 ],
 "metadata": {
  "kernelspec": {
   "display_name": "Python 3",
   "language": "python",
   "name": "python3"
  },
  "language_info": {
   "codemirror_mode": {
    "name": "ipython",
    "version": 3
   },
   "file_extension": ".py",
   "mimetype": "text/x-python",
   "name": "python",
   "nbconvert_exporter": "python",
   "pygments_lexer": "ipython3",
   "version": "3.12.7"
  }
 },
 "nbformat": 4,
 "nbformat_minor": 2
}
