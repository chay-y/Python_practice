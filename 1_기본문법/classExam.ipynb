{
 "cells": [
  {
   "cell_type": "code",
   "execution_count": 20,
   "metadata": {},
   "outputs": [],
   "source": [
    "# 1. 클래스명 Person\n",
    "#     생성자 : 이름, 나이, 성별을 입력받는 생성자 추가\n",
    "#     다음 내용을 입력하여 각각의 변수값을 출력\n",
    "\n",
    "# person 클래스에서 이름, 나이, 성별을 출력하는who()메서드 생성\n",
    "# person 클래스에서 이름, 나이, 성별을 입력받는 setInfo() 메서드 생성\n",
    "# 인스턴트 소멸 시 1명이 삭제되었습니다 출력\n",
    "\n",
    "class Person:\n",
    "    def __init__(self, name, age, gender) :\n",
    "        self.name = name\n",
    "        self.age=age\n",
    "        self.gender=gender\n",
    "\n",
    "    def __del__(self):\n",
    "        print(\"객체가 소멸되었습니다\")\n",
    "\n",
    "    def who(self):\n",
    "        print(\"이름 : {} 나이 : {} 성별 : {}\".format(self.name, self.age, self.gender))\n",
    "\n",
    "    def setInfo(self,name,age,gender):\n",
    "        self.name = name\n",
    "        self.age=age\n",
    "        self.gender=gender"
   ]
  },
  {
   "cell_type": "code",
   "execution_count": 21,
   "metadata": {},
   "outputs": [
    {
     "name": "stdout",
     "output_type": "stream",
     "text": [
      "이름 : 김그린 나이 : 20 성별 : 여자\n",
      "이름 : 이블루 나이 : 33 성별 : 남자\n",
      "객체가 소멸되었습니다\n"
     ]
    }
   ],
   "source": [
    "green = Person(\"김그린\",20,\"여자\")\n",
    "green.who()\n",
    "\n",
    "blue = Person(\"이블루\",33,\"남자\")\n",
    "blue.who()\n",
    "\n",
    "del green"
   ]
  },
  {
   "cell_type": "code",
   "execution_count": 29,
   "metadata": {},
   "outputs": [],
   "source": [
    "# 2. Account클래스 생성\n",
    "# 계좌를 개설하면 은행이름, 예금주, 계좌번호, 잔액이 설정됨\n",
    "# Account클래스를 생성한 후 생성자를 구현할 것\n",
    "# 생성자에서는 예금주와 초기 잔액만 입력받음\n",
    "# 은행 이름은 green 은행으로 계좌번호는 3-2-6자리 형태로 랜덤으로 구성됨\n",
    "\n",
    "import random\n",
    "\n",
    "class Account : \n",
    "    # 클래스 변수를 사용하여 account클래스로부터 생성된 계좌의 객체 수를 저장하시오\n",
    "    account_count=0\n",
    "\n",
    "    def __init__(self, name, balance):\n",
    "        self.name=name\n",
    "        self.balance=balance\n",
    "        self.bank=\"GREEN은행\"\n",
    "\n",
    "        num1=random.randint(0,999)\n",
    "        num2=random.randint(0,99)\n",
    "        num3=random.randint(0,999999)\n",
    "\n",
    "        num1=str(num1)\n",
    "        num2=str(num2)\n",
    "        num3=str(num3)\n",
    "\n",
    "        self.account = num1 +\"-\"+ num2+\"-\"+num3\n",
    "\n",
    "        Account.account_count += 1\n",
    "\n",
    "    #  account클래수로부터 생성된 계좌의 개수를 출력하는 get_account_num()메서드를 추가\n",
    "    @classmethod\n",
    "    def get_account_num(cls):\n",
    "        print(cls.account_count)\n",
    "\n",
    "    # account클래스에 입금을 위한 deposit메서드를 추가하시오.\n",
    "    def deposit(self, amount):\n",
    "        if amount >= 1 :\n",
    "            self.balance += amount\n",
    "        \n",
    "        self.deposit_count += 1\n",
    "\n",
    "        if self.deposit_count % 5 == 0 :\n",
    "            self.balance = (self.balance * 1.01)\n",
    "\n",
    "    # account클래스에 출금을 위한 withdraw메서드를 추가하시오.\n",
    "    def withdraw(self, amount):\n",
    "        if self.balance > amount:\n",
    "            self.balance -= amount\n",
    "\n",
    "    # account 인스턴스에 저장된 정보를 출력하는 display_info메서드를 추가\n",
    "    def display_info(self):\n",
    "        print(\"은행 이름 : \", self.bank)\n",
    "        print(\"예금주 : \", self.name)\n",
    "        print(\"계좌번호 : \", self.account)\n",
    "        print(\"잔고 : \", self.balance)\n",
    "\n",
    "    def deposit_history(self):\n",
    "        for amount in self.deposit_log:\n",
    "            print(amount)\n",
    "\n",
    "\n",
    "    # 입금횟수가 5회일때 "
   ]
  },
  {
   "cell_type": "code",
   "execution_count": 30,
   "metadata": {},
   "outputs": [
    {
     "name": "stdout",
     "output_type": "stream",
     "text": [
      "1\n",
      "2\n"
     ]
    }
   ],
   "source": [
    "kim = Account(\"김그린\",1000)\n",
    "kim.get_account_num()\n",
    "\n",
    "lee = Account(\"이자바\",2000)\n",
    "lee.get_account_num()\n"
   ]
  },
  {
   "cell_type": "code",
   "execution_count": 34,
   "metadata": {},
   "outputs": [
    {
     "name": "stdout",
     "output_type": "stream",
     "text": [
      "은행 이름 :  GREEN은행\n",
      "예금주 :  김그린\n",
      "계좌번호 :  930-36-974323\n",
      "잔고 :  10000000\n"
     ]
    }
   ],
   "source": [
    "#  Account 클래스로부터 3개 이상의 인스턴스를 생성하고\n",
    "#  생성된 인스턴스를 리스트에 저장\n",
    "\n",
    "data=[]\n",
    "k=Account(\"김그린\",10000000)\n",
    "l=Account(\"이자바\",100)\n",
    "p=Account(\"박봄\",10000)\n",
    "\n",
    "data.append(k)\n",
    "data.append(l)\n",
    "data.append(p)\n",
    "\n",
    "for c in data:\n",
    "    if c.balance >= 1000000:\n",
    "        c.display_info()\n",
    "\n",
    "    "
   ]
  },
  {
   "cell_type": "code",
   "execution_count": null,
   "metadata": {},
   "outputs": [],
   "source": [
    "# 3. 바퀴갯수와 차량의 가격을 생성자를 통해 입력받는 car 클래스를 정의\n",
    "\n",
    "class Car:\n",
    "    def __init__(self,tire,price):\n",
    "        self.tire=tire\n",
    "        self.price=price\n",
    "\n",
    "    def show(self):\n",
    "        print(\"바퀴수 : \"+self.tire)\n",
    "        print(\"금액 : \"+self.price)\n",
    "\n",
    "# 차 클래스를 상속받는Scooter 클래스를 정의\n",
    "# 바퀴 갯수와 가격, 모델명을 입력받ㅇ아 설정하는car 클래스를 상속받도록 정의\n",
    "class Scooter(Car):\n",
    "    def __init__(self,tire,price, model):\n",
    "        super().__init__(tire,price)\n",
    "        self.model=model\n",
    "\n",
    "    def show(self):\n",
    "        \n",
    "# 스쿠터의 정보를 출력하도록car클래스에 show()메서드를 작성\n",
    "# 위에서 작성한 메서드를 이용하여 스쿠터의 정보를 출력하도록 설정"
   ]
  }
 ],
 "metadata": {
  "kernelspec": {
   "display_name": "Python 3",
   "language": "python",
   "name": "python3"
  },
  "language_info": {
   "codemirror_mode": {
    "name": "ipython",
    "version": 3
   },
   "file_extension": ".py",
   "mimetype": "text/x-python",
   "name": "python",
   "nbconvert_exporter": "python",
   "pygments_lexer": "ipython3",
   "version": "3.12.7"
  }
 },
 "nbformat": 4,
 "nbformat_minor": 2
}
