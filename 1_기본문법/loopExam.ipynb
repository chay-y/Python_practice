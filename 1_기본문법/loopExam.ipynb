{
 "cells": [
  {
   "cell_type": "code",
   "execution_count": 34,
   "metadata": {},
   "outputs": [
    {
     "name": "stdout",
     "output_type": "stream",
     "text": [
      "110\n",
      "210\n",
      "310\n"
     ]
    }
   ],
   "source": [
    "# 1. 가격(100, 200, 300)이 적혀있는 리스트(lst)를 생성한 뒤\n",
    "#     각 금액에 세금 10원이 추가되어 출력하시오\n",
    "\n",
    "lst = [100, 200, 300]\n",
    "\n",
    "for pay in lst :\n",
    "    print(pay+10)"
   ]
  },
  {
   "cell_type": "code",
   "execution_count": 23,
   "metadata": {},
   "outputs": [
    {
     "name": "stdout",
     "output_type": "stream",
     "text": [
      "dog 3\n",
      "cat 3\n",
      "tiger 5\n"
     ]
    }
   ],
   "source": [
    "# 2. 동물의 이름(dog, cat, tiger)이 저장되어있는 리스트를 생성한 뒤\n",
    "#     각 동물의 이름과 글자수를 출력하시오\n",
    "#     출력 예 ) dog 3\n",
    "#              cat 3\n",
    "#              tiger 5\n",
    "\n",
    "animal=[\"dog\",\"cat\",\"tiger\"]\n",
    "\n",
    "for name in animal :\n",
    "    print(name, len(name))\n",
    "\n",
    "# result2 = [ animal+\" \"+str(len(animal)) for animal in animal]\n",
    "# print(result2)"
   ]
  },
  {
   "cell_type": "code",
   "execution_count": 27,
   "metadata": {},
   "outputs": [
    {
     "name": "stdout",
     "output_type": "stream",
     "text": [
      "초록\n",
      "빨강\n",
      "파랑\n"
     ]
    }
   ],
   "source": [
    "# 3. 아래의 리스트 중 색상 이름(초록, 빨강, 파랑)만 출력하시오\n",
    "\n",
    "list = [\"색깔\", \"초록\", \"빨강\", \"파랑\"]\n",
    "\n",
    "for color in list[1:] :\n",
    "    print(color)"
   ]
  },
  {
   "cell_type": "code",
   "execution_count": 32,
   "metadata": {},
   "outputs": [
    {
     "name": "stdout",
     "output_type": "stream",
     "text": [
      "-21\n",
      "-56\n"
     ]
    }
   ],
   "source": [
    "# 4. 아래의 리스트 중 음수만 출력하시오\n",
    "\n",
    "list = [4, -21, -56, 5]\n",
    "\n",
    "for miner in list :\n",
    "    if miner<0 :\n",
    "        print(miner)"
   ]
  },
  {
   "cell_type": "code",
   "execution_count": 35,
   "metadata": {},
   "outputs": [
    {
     "name": "stdout",
     "output_type": "stream",
     "text": [
      "12\n",
      "18\n"
     ]
    }
   ],
   "source": [
    "# 5. 리스트에서 20보다 작은 3의 배수를 출력하시오\n",
    "\n",
    "list = [13,21,12,14,30,18]\n",
    "\n",
    "for result5 in list :\n",
    "    if result5<20 : \n",
    "        if result5%3==0 :\n",
    "            print(result5)"
   ]
  },
  {
   "cell_type": "code",
   "execution_count": 40,
   "metadata": {},
   "outputs": [
    {
     "name": "stdout",
     "output_type": "stream",
     "text": [
      "Green\n",
      "Red\n",
      "Blue\n"
     ]
    }
   ],
   "source": [
    "# 6. 이름의 첫 글자를 대문자로 변경하여 출력하시오\n",
    "\n",
    "list = ['green','red','blue']\n",
    "\n",
    "for list in list :\n",
    "    print(list[0].upper()+list[1:])"
   ]
  },
  {
   "cell_type": "code",
   "execution_count": 43,
   "metadata": {},
   "outputs": [
    {
     "name": "stdout",
     "output_type": "stream",
     "text": [
      "hello\n",
      "index\n",
      "login\n"
     ]
    }
   ],
   "source": [
    "# 7. 파일 이름이 저장된 리스트에서 확장자를 제거하고 파일 이름만 출력하시오.\n",
    "list = ['hello.py', 'index.html','login.java']\n",
    "\n",
    "for list in list :\n",
    "    print(list.split('.')[0])"
   ]
  },
  {
   "cell_type": "code",
   "execution_count": 55,
   "metadata": {},
   "outputs": [
    {
     "name": "stdout",
     "output_type": "stream",
     "text": [
      "hello\n"
     ]
    }
   ],
   "source": [
    "# 8. 파일 이름이 저장된 리스트에서 확장자가 'py'인 파일이름만 출력하시오\n",
    "list = ['hello.py', 'index.html','login.java']\n",
    "\n",
    "for result8 in list :\n",
    "    if str(result8[-2:]) == str('py') :\n",
    "        print(result8.split('.')[0])\n"
   ]
  },
  {
   "cell_type": "code",
   "execution_count": 96,
   "metadata": {},
   "outputs": [
    {
     "name": "stdout",
     "output_type": "stream",
     "text": [
      "3\n",
      "6\n",
      "9\n",
      "12\n",
      "15\n",
      "18\n",
      "21\n",
      "24\n",
      "27\n",
      "30\n"
     ]
    }
   ],
   "source": [
    "# 9. 1부터 30까지의 숫자중에서 3의 배수를 출력하시오.\n",
    "\n",
    "# for num3 in range(1,30) :\n",
    "#     if num3%3==0 :\n",
    "#         print(num3)\n",
    "\n",
    "for num in range(3, 31, 3):\n",
    "    print(num)"
   ]
  },
  {
   "cell_type": "code",
   "execution_count": 124,
   "metadata": {},
   "outputs": [
    {
     "name": "stdout",
     "output_type": "stream",
     "text": [
      "100 32150\n",
      "110 32000\n",
      "120 32500\n"
     ]
    }
   ],
   "source": [
    "# 10. 다음 리스트의 데이터를 for문을 이용하여 출력하시오.\n",
    "# 출력 예 ) 100 32150\n",
    "#           110 32000\n",
    "#           120 32500\n",
    "\n",
    "price = [32100, 32150, 32000, 32500]\n",
    "\n",
    "for listnum in range(1,4) :\n",
    "    print(90+10*listnum,price[listnum])"
   ]
  },
  {
   "cell_type": "code",
   "execution_count": 103,
   "metadata": {},
   "outputs": [
    {
     "name": "stdout",
     "output_type": "stream",
     "text": [
      "3628800\n"
     ]
    }
   ],
   "source": [
    "# 1부터 10까지의 숫자를 모두 곱한 값을 출력하시오.\n",
    "a = 1\n",
    "for i in range(1,11) :\n",
    "    a *= i\n",
    "print(a)"
   ]
  },
  {
   "cell_type": "code",
   "execution_count": 152,
   "metadata": {},
   "outputs": [
    {
     "name": "stdout",
     "output_type": "stream",
     "text": [
      "A B\n",
      "B C\n",
      "C D\n",
      "--------------------\n",
      "D C\n",
      "C B\n",
      "B A\n"
     ]
    }
   ],
   "source": [
    "# 11. 다음 리스트를 아래와 같이 출력하시오\n",
    "# 출력 예 )\n",
    "    # A   B\n",
    "    # B   C \n",
    "    # c   D \n",
    "\n",
    "list=['A','B','C','D']\n",
    "\n",
    "for i in range(1,len(list)) :\n",
    "    print(list[i-1],list[i])\n",
    "\n",
    "print(\"--------------------\")\n",
    "\n",
    "for i in range(len(list)-1):\n",
    "    print((list[len(list)-1-i]), list[len(list)-2-i])"
   ]
  },
  {
   "cell_type": "code",
   "execution_count": 165,
   "metadata": {},
   "outputs": [
    {
     "name": "stdout",
     "output_type": "stream",
     "text": [
      "101\n",
      "102\n",
      "201\n",
      "202\n",
      "301\n",
      "302\n",
      "----------------------\n",
      "101 호\n",
      "102 호\n",
      "201 호\n",
      "202 호\n",
      "301 호\n",
      "302 호\n"
     ]
    }
   ],
   "source": [
    "# 12. 다음 리스트를 아래와 같이 출력하시오 (~16.)\n",
    "# 101\n",
    "# 102\n",
    "# 201\n",
    "# 202\n",
    "# 301\n",
    "# 302\n",
    "list=[[101,102],[201,202],[301,302]]\n",
    "\n",
    "for i in range(0,len(list)) :\n",
    "    for j in range(0,len(list[i])) :\n",
    "        print(list[i][j])\n",
    "\n",
    "print(\"----------------------\")\n",
    "\n",
    "for i in list :\n",
    "    for j in i:\n",
    "        print(j,\"호\")"
   ]
  },
  {
   "cell_type": "code",
   "execution_count": 166,
   "metadata": {},
   "outputs": [
    {
     "name": "stdout",
     "output_type": "stream",
     "text": [
      "301 호\n",
      "302 호\n",
      "201 호\n",
      "202 호\n",
      "101 호\n",
      "102 호\n"
     ]
    }
   ],
   "source": [
    "# 13. \n",
    "# 301 호\n",
    "# 302 호\n",
    "# 201 호\n",
    "# 202 호\n",
    "# 101 호\n",
    "# 102 호\n",
    "\n",
    "list=[[101,102],[201,202],[301,302]]\n",
    "\n",
    "for i in list[::-1] :\n",
    "    for j in i:\n",
    "        print(j,\"호\")\n"
   ]
  },
  {
   "cell_type": "code",
   "execution_count": 169,
   "metadata": {},
   "outputs": [
    {
     "name": "stdout",
     "output_type": "stream",
     "text": [
      "302 호\n",
      "301 호\n",
      "202 호\n",
      "201 호\n",
      "102 호\n",
      "101 호\n"
     ]
    }
   ],
   "source": [
    "# 14.\n",
    "# 302\n",
    "# 301\n",
    "# 202\n",
    "# 201\n",
    "# 102\n",
    "# 101\n",
    "\n",
    "list=[[101,102],[201,202],[301,302]]\n",
    "\n",
    "for i in list[::-1] :\n",
    "    for j in i[::-1] :\n",
    "        print (j,\"호\")"
   ]
  },
  {
   "cell_type": "code",
   "execution_count": 193,
   "metadata": {},
   "outputs": [
    {
     "name": "stdout",
     "output_type": "stream",
     "text": [
      "101 호\n",
      "102 호\n",
      "------------ 1 층\n",
      "201 호\n",
      "202 호\n",
      "------------ 2 층\n",
      "301 호\n",
      "302 호\n",
      "------------ 3 층\n"
     ]
    }
   ],
   "source": [
    "# 15. \n",
    "# 101 호\n",
    "# 102 호\n",
    "# -------- 1층\n",
    "# 201 호\n",
    "# 202 호\n",
    "# -------- 2층\n",
    "# 301 호\n",
    "# 302 호\n",
    "# -------- 3층\n",
    "\n",
    "list=[[101,102],[201,202],[301,302]]\n",
    "w=0\n",
    "\n",
    "for i in list :\n",
    "    w+=1\n",
    "    for j in i:\n",
    "        print(j,\"호\")\n",
    "    print(\"------------\",w,\"층\")\n",
    "        "
   ]
  }
 ],
 "metadata": {
  "kernelspec": {
   "display_name": "Python 3",
   "language": "python",
   "name": "python3"
  },
  "language_info": {
   "codemirror_mode": {
    "name": "ipython",
    "version": 3
   },
   "file_extension": ".py",
   "mimetype": "text/x-python",
   "name": "python",
   "nbconvert_exporter": "python",
   "pygments_lexer": "ipython3",
   "version": "3.12.7"
  }
 },
 "nbformat": 4,
 "nbformat_minor": 2
}
