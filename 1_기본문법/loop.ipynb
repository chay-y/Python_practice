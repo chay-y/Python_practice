{
 "cells": [
  {
   "cell_type": "code",
   "execution_count": 2,
   "metadata": {},
   "outputs": [
    {
     "name": "stdout",
     "output_type": "stream",
     "text": [
      "\n",
      "    1. ADD\n",
      "    2. DEL\n",
      "    3. LIST\n",
      "    4. QUIT\n",
      "\n"
     ]
    }
   ],
   "source": [
    "number = 0;\n",
    "\n",
    "prompt = \"\"\"\n",
    "    1. ADD\n",
    "    2. DEL\n",
    "    3. LIST\n",
    "    4. QUIT\n",
    "\"\"\"\n",
    "while number != 4:\n",
    "    print(prompt)\n",
    "    number = int(input()) "
   ]
  },
  {
   "cell_type": "code",
   "execution_count": 5,
   "metadata": {},
   "outputs": [
    {
     "name": "stdout",
     "output_type": "stream",
     "text": [
      "1번 학생은 합격입니다.\n",
      "2번 학생은 합격입니다.\n",
      "3번 학생은 불합격입니다.\n",
      "4번 학생은 합격입니다.\n",
      "5번 학생은 불합격입니다.\n"
     ]
    }
   ],
   "source": [
    "scores= [95, 72, 48, 100, 59]\n",
    "\n",
    "number = 0;\n",
    "\n",
    "for s in scores:\n",
    "    number += 1\n",
    "\n",
    "    if s>=60:\n",
    "        print(\"%d번 학생은 합격입니다.\"%number)\n",
    "    else:\n",
    "        print(\"%d번 학생은 불합격입니다.\"%number)"
   ]
  },
  {
   "cell_type": "code",
   "execution_count": 6,
   "metadata": {},
   "outputs": [
    {
     "ename": "SyntaxError",
     "evalue": "invalid syntax (2592978551.py, line 1)",
     "output_type": "error",
     "traceback": [
      "\u001b[1;36m  Cell \u001b[1;32mIn[6], line 1\u001b[1;36m\u001b[0m\n\u001b[1;33m    fori in range(2, 10):\u001b[0m\n\u001b[1;37m                        ^\u001b[0m\n\u001b[1;31mSyntaxError\u001b[0m\u001b[1;31m:\u001b[0m invalid syntax\n"
     ]
    }
   ],
   "source": [
    "for i in range(2, 10) :\n",
    "    for j in range(1,10) :\n",
    "        print (i*j enc=\" \")\n",
    "    print(' ') "
   ]
  },
  {
   "cell_type": "code",
   "execution_count": 7,
   "metadata": {},
   "outputs": [
    {
     "name": "stdout",
     "output_type": "stream",
     "text": [
      "[1, 4, 9, 16, 25]\n"
     ]
    }
   ],
   "source": [
    "result1 = [x**2 for x in range(1,6)]\n",
    "\n",
    "print(result1)"
   ]
  },
  {
   "cell_type": "code",
   "execution_count": 9,
   "metadata": {},
   "outputs": [
    {
     "name": "stdout",
     "output_type": "stream",
     "text": [
      "[1, 2, 3, 4, 5, 6, 7, 8, 9, 10]\n"
     ]
    }
   ],
   "source": [
    "result2 = [num for num in range(1, 11)]\n",
    "\n",
    "print(result2)"
   ]
  },
  {
   "cell_type": "code",
   "execution_count": 10,
   "metadata": {},
   "outputs": [
    {
     "name": "stdout",
     "output_type": "stream",
     "text": [
      "['P', 'Y', 'T', 'H', 'O', 'N']\n"
     ]
    }
   ],
   "source": [
    "text = \"python\"\n",
    "\n",
    "result3=[char.upper() for char in text]\n",
    "print(result3)"
   ]
  },
  {
   "cell_type": "code",
   "execution_count": 12,
   "metadata": {},
   "outputs": [
    {
     "name": "stdout",
     "output_type": "stream",
     "text": [
      "[5, 6, 5, 10, 9]\n"
     ]
    }
   ],
   "source": [
    "words = [\"apple\",\"banana\",\"mango\",\"watermelon\",\"stroberry\"]\n",
    "\n",
    "result4 = [len(word) for word in words]\n",
    "print(result4)\n"
   ]
  },
  {
   "cell_type": "code",
   "execution_count": 16,
   "metadata": {},
   "outputs": [
    {
     "name": "stdout",
     "output_type": "stream",
     "text": [
      "[2, 6, 10, 14, 18]\n"
     ]
    }
   ],
   "source": [
    "# 1부터 10의 숫자중 홀수에만 2를 곱해서 리스트에 저장\n",
    "result5 = [num*2 for num in range(1,11) if num%2==1]\n",
    "\n",
    "print(result5)"
   ]
  },
  {
   "cell_type": "code",
   "execution_count": 19,
   "metadata": {},
   "outputs": [
    {
     "name": "stdout",
     "output_type": "stream",
     "text": [
      "[1, 3, 5]\n"
     ]
    }
   ],
   "source": [
    "# 2차원리스트에서 첫번째 요소만 리스트에 저장\n",
    "\n",
    "list2D =[[1,2],[3,4],[5,6]]\n",
    "\n",
    "result6=[row[0] for row in list2D]\n",
    "print(result6)"
   ]
  },
  {
   "cell_type": "code",
   "execution_count": 20,
   "metadata": {},
   "outputs": [
    {
     "name": "stdout",
     "output_type": "stream",
     "text": [
      "['apple', 'banana', 'mango', 'watermelon', 'stroberry']\n"
     ]
    }
   ],
   "source": [
    "# 리스트 목록 중 글자수가 5글자 이상인 것만 리스트에 저장\n",
    "\n",
    "words = [\"apple\",\"banana\",\"mango\",\"watermelon\",\"stroberry\"]\n",
    "\n",
    "result7 = [w for w in words if len(w) >=5]\n",
    "print(result7)\n"
   ]
  }
 ],
 "metadata": {
  "kernelspec": {
   "display_name": "Python 3",
   "language": "python",
   "name": "python3"
  },
  "language_info": {
   "codemirror_mode": {
    "name": "ipython",
    "version": 3
   },
   "file_extension": ".py",
   "mimetype": "text/x-python",
   "name": "python",
   "nbconvert_exporter": "python",
   "pygments_lexer": "ipython3",
   "version": "3.12.7"
  }
 },
 "nbformat": 4,
 "nbformat_minor": 2
}
