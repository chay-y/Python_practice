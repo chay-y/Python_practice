{
 "cells": [
  {
   "cell_type": "code",
   "execution_count": 5,
   "metadata": {},
   "outputs": [
    {
     "data": {
      "text/plain": [
       "['빛이 이끄는 곳으로', '영원한 천국', '이중 하나는 거짓말']"
      ]
     },
     "execution_count": 5,
     "metadata": {},
     "output_type": "execute_result"
    }
   ],
   "source": [
    "# 1. 도서 목록을 book_list 이름의 리스트에 저장\n",
    "# - 빛이 이끄는 곳으로\n",
    "# - 영원한 천국\n",
    "# - 이 중 하나는 거짓말\n",
    "book_list=['빛이 이끄는 곳으로','영원한 천국','이중 하나는 거짓말']\n",
    "book_list"
   ]
  },
  {
   "cell_type": "code",
   "execution_count": 6,
   "metadata": {},
   "outputs": [
    {
     "data": {
      "text/plain": [
       "['빛이 이끄는 곳으로', '영원한 천국', '이중 하나는 거짓말', '모순']"
      ]
     },
     "execution_count": 6,
     "metadata": {},
     "output_type": "execute_result"
    }
   ],
   "source": [
    "# 2. book_list 리스트에 '모순'을 추가하시오\n",
    "book_list.insert(3,'모순')\n",
    "book_list"
   ]
  },
  {
   "cell_type": "code",
   "execution_count": 7,
   "metadata": {},
   "outputs": [
    {
     "data": {
      "text/plain": [
       "['빛이 이끄는 곳으로', '파친코', '영원한 천국', '이중 하나는 거짓말', '모순']"
      ]
     },
     "execution_count": 7,
     "metadata": {},
     "output_type": "execute_result"
    }
   ],
   "source": [
    "# 3. book_list의 목록에서 '빛이 이끈 곳으로'와 '영원한 천국' 사이에\n",
    "# '파친코'를 추가하시오\n",
    "book_list.insert(1,'파친코')\n",
    "book_list"
   ]
  },
  {
   "cell_type": "code",
   "execution_count": 14,
   "metadata": {},
   "outputs": [
    {
     "data": {
      "text/plain": [
       "['빛이 이끄는 곳으로', '파친코', '영원한 천국', '모순']"
      ]
     },
     "execution_count": 14,
     "metadata": {},
     "output_type": "execute_result"
    }
   ],
   "source": [
    "# 4. book_list에서 '이중 하나는 거짓말'을 삭제하시오\n",
    "book_list.remove('이중 하나는 거짓말')\n",
    "book_list"
   ]
  },
  {
   "cell_type": "code",
   "execution_count": 16,
   "metadata": {},
   "outputs": [
    {
     "data": {
      "text/plain": [
       "['빛이 이끄는 곳으로', '파친코']"
      ]
     },
     "execution_count": 16,
     "metadata": {},
     "output_type": "execute_result"
    }
   ],
   "source": [
    "# 5. book_list에서 '영원한 천국'과 '모순'을 삭제하시오.\n",
    "book_list.remove('영원한 천국')\n",
    "book_list.remove('모순')\n",
    "book_list"
   ]
  },
  {
   "cell_type": "code",
   "execution_count": 27,
   "metadata": {},
   "outputs": [
    {
     "data": {
      "text/plain": [
       "[95, 83, 56, 78, 100, 88]"
      ]
     },
     "execution_count": 27,
     "metadata": {},
     "output_type": "execute_result"
    }
   ],
   "source": [
    "# 6. score 변수에 날짜와 점수를 추가하고 날짜를 제외한 결과만 출력\n",
    "# '20241010', 95, 83, 56, 78, 100, 88\n",
    "\n",
    "score=['20241010', 95, 83, 56, 78, 100, 88]\n",
    "score[1:]"
   ]
  },
  {
   "cell_type": "code",
   "execution_count": 28,
   "metadata": {},
   "outputs": [
    {
     "name": "stdout",
     "output_type": "stream",
     "text": [
      "[1, 3, 5, 7, 9]\n",
      "[2, 4, 6, 8, 10]\n"
     ]
    }
   ],
   "source": [
    "# 7. nums 변수에 1부터 10까지를 리스트 형태로 저장하고\n",
    "# 홀수만 출력하고 짝수만 모아서 출력\n",
    "nums= [1,2,3,4,5,6,7,8,9,10]\n",
    "\n",
    "print(nums[::2])\n",
    "print(nums[1::2])"
   ]
  }
 ],
 "metadata": {
  "kernelspec": {
   "display_name": "Python 3",
   "language": "python",
   "name": "python3"
  },
  "language_info": {
   "codemirror_mode": {
    "name": "ipython",
    "version": 3
   },
   "file_extension": ".py",
   "mimetype": "text/x-python",
   "name": "python",
   "nbconvert_exporter": "python",
   "pygments_lexer": "ipython3",
   "version": "3.12.7"
  }
 },
 "nbformat": 4,
 "nbformat_minor": 2
}
